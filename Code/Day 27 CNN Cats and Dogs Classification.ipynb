{
 "cells": [
  {
   "cell_type": "markdown",
   "id": "b98219c8",
   "metadata": {},
   "source": [
    "# Convolutional Neural Network"
   ]
  },
  {
   "cell_type": "markdown",
   "id": "a1a82005",
   "metadata": {},
   "source": [
    "## Importing the libraries"
   ]
  },
  {
   "cell_type": "code",
   "execution_count": 9,
   "id": "1dab8aea",
   "metadata": {},
   "outputs": [],
   "source": [
    "import tensorflow as tf\n",
    "from keras.preprocessing.image import ImageDataGenerator\n",
    "from tensorflow import keras"
   ]
  },
  {
   "cell_type": "markdown",
   "id": "a47cb777",
   "metadata": {},
   "source": [
    "# Part 1 - Data Preprocessing"
   ]
  },
  {
   "cell_type": "code",
   "execution_count": 10,
   "id": "190bd591",
   "metadata": {},
   "outputs": [
    {
     "name": "stdout",
     "output_type": "stream",
     "text": [
      "Found 8000 images belonging to 2 classes.\n"
     ]
    }
   ],
   "source": [
    "train_datagen = ImageDataGenerator(rescale=1./255,\n",
    "                                   shear_range=0.2,\n",
    "                                   zoom_range=0.2,\n",
    "                                   horizontal_flip=True)\n",
    "training_set = train_datagen.flow_from_directory(\"dataset/training_set\",\n",
    "                                                    target_size=(64,64),\n",
    "                                                    batch_size=32,\n",
    "                                                    class_mode=\"binary\")                       "
   ]
  },
  {
   "cell_type": "markdown",
   "id": "47d65a8a",
   "metadata": {},
   "source": [
    "### Preprocessing the TestDataset"
   ]
  },
  {
   "cell_type": "code",
   "execution_count": 11,
   "id": "8516cd19",
   "metadata": {},
   "outputs": [
    {
     "name": "stdout",
     "output_type": "stream",
     "text": [
      "Found 2000 images belonging to 2 classes.\n"
     ]
    }
   ],
   "source": [
    "test_datagen = ImageDataGenerator(rescale=1./255)\n",
    "test_set = test_datagen.flow_from_directory(\"dataset/test_set\",\n",
    "                                           target_size=(64,64),\n",
    "                                           batch_size=32,\n",
    "                                           class_mode=\"binary\")"
   ]
  },
  {
   "cell_type": "markdown",
   "id": "4cb9e9b6",
   "metadata": {},
   "source": [
    "# Part 2 - Building the CNN"
   ]
  },
  {
   "cell_type": "markdown",
   "id": "33794d7f",
   "metadata": {},
   "source": [
    "### Initializing the CNN"
   ]
  },
  {
   "cell_type": "code",
   "execution_count": 13,
   "id": "ad8466ff",
   "metadata": {},
   "outputs": [],
   "source": [
    "cnn = keras.models.Sequential()"
   ]
  },
  {
   "cell_type": "markdown",
   "id": "15e80625",
   "metadata": {},
   "source": [
    "### Step 1 - Convolution"
   ]
  },
  {
   "cell_type": "code",
   "execution_count": 14,
   "id": "d00feb97",
   "metadata": {},
   "outputs": [],
   "source": [
    "cnn.add(keras.layers.Conv2D(filters=32, kernel_size=3, activation=\"relu\", input_shape=[64,64,3]))"
   ]
  },
  {
   "cell_type": "markdown",
   "id": "077cab8c",
   "metadata": {},
   "source": [
    "### Step 2 - Pooling"
   ]
  },
  {
   "cell_type": "code",
   "execution_count": 15,
   "id": "d1dfe579",
   "metadata": {},
   "outputs": [],
   "source": [
    "cnn.add(keras.layers.MaxPool2D(pool_size=2, strides=2))"
   ]
  },
  {
   "cell_type": "markdown",
   "id": "3fc1c1ba",
   "metadata": {},
   "source": [
    "### Adding a second convolution and pooling layer"
   ]
  },
  {
   "cell_type": "code",
   "execution_count": 16,
   "id": "11770a01",
   "metadata": {},
   "outputs": [],
   "source": [
    "cnn.add(keras.layers.Conv2D(filters=32, kernel_size=3, activation=\"relu\"))\n",
    "cnn.add(keras.layers.MaxPool2D(pool_size=2, strides=2))"
   ]
  },
  {
   "cell_type": "markdown",
   "id": "f92e93f2",
   "metadata": {},
   "source": [
    "### Step 3 - Flattening"
   ]
  },
  {
   "cell_type": "code",
   "execution_count": 17,
   "id": "d2ad3bb5",
   "metadata": {},
   "outputs": [],
   "source": [
    "cnn.add(keras.layers.Flatten())"
   ]
  },
  {
   "cell_type": "markdown",
   "id": "c2d6409b",
   "metadata": {},
   "source": [
    "### Step 4 - Full Connection"
   ]
  },
  {
   "cell_type": "code",
   "execution_count": 19,
   "id": "1bcefb39",
   "metadata": {},
   "outputs": [],
   "source": [
    "cnn.add(keras.layers.Dense(units=128, activation=\"relu\"))"
   ]
  },
  {
   "cell_type": "markdown",
   "id": "f51dc247",
   "metadata": {},
   "source": [
    "### Step 5 - Output Layer"
   ]
  },
  {
   "cell_type": "code",
   "execution_count": 20,
   "id": "93dbf744",
   "metadata": {},
   "outputs": [],
   "source": [
    "cnn.add(keras.layers.Dense(units=1, activation=\"sigmoid\"))"
   ]
  },
  {
   "cell_type": "markdown",
   "id": "44a6f400",
   "metadata": {},
   "source": [
    "# Part 3 - Training the CNN"
   ]
  },
  {
   "cell_type": "markdown",
   "id": "5d7e31dd",
   "metadata": {},
   "source": [
    "### Compiling the CNN"
   ]
  },
  {
   "cell_type": "code",
   "execution_count": 21,
   "id": "b59503cc",
   "metadata": {},
   "outputs": [],
   "source": [
    "cnn.compile(optimizer = \"adam\",\n",
    "           loss = \"binary_crossentropy\",\n",
    "           metrics = [\"accuracy\"])"
   ]
  },
  {
   "cell_type": "markdown",
   "id": "ca228515",
   "metadata": {},
   "source": [
    "### Training the CNN on the Training set and evaluating it on the Test set\n"
   ]
  },
  {
   "cell_type": "code",
   "execution_count": 22,
   "id": "d351decd",
   "metadata": {},
   "outputs": [
    {
     "name": "stdout",
     "output_type": "stream",
     "text": [
      "Epoch 1/25\n",
      "250/250 [==============================] - 28s 111ms/step - loss: 0.6619 - accuracy: 0.5899 - val_loss: 0.6059 - val_accuracy: 0.6835\n",
      "Epoch 2/25\n",
      "250/250 [==============================] - 27s 110ms/step - loss: 0.5849 - accuracy: 0.6861 - val_loss: 0.6177 - val_accuracy: 0.6985\n",
      "Epoch 3/25\n",
      "250/250 [==============================] - 27s 109ms/step - loss: 0.5535 - accuracy: 0.7151 - val_loss: 0.5674 - val_accuracy: 0.7185\n",
      "Epoch 4/25\n",
      "250/250 [==============================] - 27s 110ms/step - loss: 0.5248 - accuracy: 0.7370 - val_loss: 0.5100 - val_accuracy: 0.7580\n",
      "Epoch 5/25\n",
      "250/250 [==============================] - 27s 109ms/step - loss: 0.5076 - accuracy: 0.7501 - val_loss: 0.5136 - val_accuracy: 0.7540\n",
      "Epoch 6/25\n",
      "250/250 [==============================] - 27s 109ms/step - loss: 0.4769 - accuracy: 0.7660 - val_loss: 0.5817 - val_accuracy: 0.6920\n",
      "Epoch 7/25\n",
      "250/250 [==============================] - 27s 109ms/step - loss: 0.4647 - accuracy: 0.7720 - val_loss: 0.4677 - val_accuracy: 0.7785\n",
      "Epoch 8/25\n",
      "250/250 [==============================] - 27s 109ms/step - loss: 0.4469 - accuracy: 0.7876 - val_loss: 0.4576 - val_accuracy: 0.7815\n",
      "Epoch 9/25\n",
      "250/250 [==============================] - 27s 109ms/step - loss: 0.4397 - accuracy: 0.7954 - val_loss: 0.4736 - val_accuracy: 0.7850\n",
      "Epoch 10/25\n",
      "250/250 [==============================] - 27s 108ms/step - loss: 0.4179 - accuracy: 0.8071 - val_loss: 0.4557 - val_accuracy: 0.7840\n",
      "Epoch 11/25\n",
      "250/250 [==============================] - 27s 109ms/step - loss: 0.3963 - accuracy: 0.8141 - val_loss: 0.4588 - val_accuracy: 0.7930\n",
      "Epoch 12/25\n",
      "250/250 [==============================] - 27s 109ms/step - loss: 0.3914 - accuracy: 0.8166 - val_loss: 0.4425 - val_accuracy: 0.8050\n",
      "Epoch 13/25\n",
      "250/250 [==============================] - 27s 110ms/step - loss: 0.3742 - accuracy: 0.8338 - val_loss: 0.4638 - val_accuracy: 0.7850\n",
      "Epoch 14/25\n",
      "250/250 [==============================] - 27s 109ms/step - loss: 0.3677 - accuracy: 0.8380 - val_loss: 0.5041 - val_accuracy: 0.7675\n",
      "Epoch 15/25\n",
      "250/250 [==============================] - 27s 109ms/step - loss: 0.3629 - accuracy: 0.8388 - val_loss: 0.4885 - val_accuracy: 0.7825\n",
      "Epoch 16/25\n",
      "250/250 [==============================] - 27s 108ms/step - loss: 0.3396 - accuracy: 0.8474 - val_loss: 0.4773 - val_accuracy: 0.8080\n",
      "Epoch 17/25\n",
      "250/250 [==============================] - 27s 108ms/step - loss: 0.3360 - accuracy: 0.8510 - val_loss: 0.4383 - val_accuracy: 0.8045\n",
      "Epoch 18/25\n",
      "250/250 [==============================] - 27s 108ms/step - loss: 0.3267 - accuracy: 0.8593 - val_loss: 0.4341 - val_accuracy: 0.8155\n",
      "Epoch 19/25\n",
      "250/250 [==============================] - 27s 108ms/step - loss: 0.3209 - accuracy: 0.8625 - val_loss: 0.4385 - val_accuracy: 0.8075\n",
      "Epoch 20/25\n",
      "250/250 [==============================] - 27s 108ms/step - loss: 0.3021 - accuracy: 0.8742 - val_loss: 0.4524 - val_accuracy: 0.8075\n",
      "Epoch 21/25\n",
      "250/250 [==============================] - 27s 108ms/step - loss: 0.2917 - accuracy: 0.8744 - val_loss: 0.4560 - val_accuracy: 0.8025\n",
      "Epoch 22/25\n",
      "250/250 [==============================] - 27s 108ms/step - loss: 0.2869 - accuracy: 0.8774 - val_loss: 0.5739 - val_accuracy: 0.7805\n",
      "Epoch 23/25\n",
      "250/250 [==============================] - 27s 108ms/step - loss: 0.2734 - accuracy: 0.8827 - val_loss: 0.4588 - val_accuracy: 0.8085\n",
      "Epoch 24/25\n",
      "250/250 [==============================] - 27s 108ms/step - loss: 0.2635 - accuracy: 0.8879 - val_loss: 0.4876 - val_accuracy: 0.8010\n",
      "Epoch 25/25\n",
      "250/250 [==============================] - 27s 108ms/step - loss: 0.2542 - accuracy: 0.8901 - val_loss: 0.4957 - val_accuracy: 0.8140\n"
     ]
    },
    {
     "data": {
      "text/plain": [
       "<keras.callbacks.History at 0x1585b8a3d60>"
      ]
     },
     "execution_count": 22,
     "metadata": {},
     "output_type": "execute_result"
    }
   ],
   "source": [
    "cnn.fit(x = training_set, validation_data = test_set, epochs = 25)"
   ]
  },
  {
   "cell_type": "markdown",
   "id": "51e217f7",
   "metadata": {},
   "source": [
    "# Part 4 - Making a single prediction"
   ]
  },
  {
   "cell_type": "code",
   "execution_count": 33,
   "id": "683b835c",
   "metadata": {},
   "outputs": [],
   "source": [
    "import numpy as np\n",
    "from keras.preprocessing import image\n",
    "test_image = image.load_img('dataset/single_prediction/cat_or_dog_1.jpg',target_size=(64,64))\n",
    "test_image = image.img_to_array(test_image)\n",
    "test_image = np.expand_dims(test_image, axis=0)\n",
    "result = cnn.predict(test_image)\n",
    "training_set.class_indices\n",
    "if result[0][0] == 1:\n",
    "      prediction = 'dog'\n",
    "else:\n",
    "      prediction = 'cat'"
   ]
  },
  {
   "cell_type": "code",
   "execution_count": 34,
   "id": "ed7dd60d",
   "metadata": {},
   "outputs": [
    {
     "name": "stdout",
     "output_type": "stream",
     "text": [
      "dog\n"
     ]
    }
   ],
   "source": [
    "print(prediction)"
   ]
  }
 ],
 "metadata": {
  "kernelspec": {
   "display_name": "Python 3 (ipykernel)",
   "language": "python",
   "name": "python3"
  },
  "language_info": {
   "codemirror_mode": {
    "name": "ipython",
    "version": 3
   },
   "file_extension": ".py",
   "mimetype": "text/x-python",
   "name": "python",
   "nbconvert_exporter": "python",
   "pygments_lexer": "ipython3",
   "version": "3.9.7"
  }
 },
 "nbformat": 4,
 "nbformat_minor": 5
}
