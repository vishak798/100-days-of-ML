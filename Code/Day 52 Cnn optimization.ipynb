{
 "cells": [
  {
   "cell_type": "code",
   "execution_count": 1,
   "id": "0186cc20",
   "metadata": {},
   "outputs": [
    {
     "name": "stdout",
     "output_type": "stream",
     "text": [
      "Collecting keras-tuner\n",
      "  Using cached keras_tuner-1.1.2-py3-none-any.whl (133 kB)\n",
      "Collecting kt-legacy\n",
      "  Using cached kt_legacy-1.0.4-py3-none-any.whl (9.6 kB)\n",
      "Requirement already satisfied: tensorboard in c:\\users\\visha\\.conda\\envs\\tensorflow-gpu\\lib\\site-packages (from keras-tuner) (2.4.1)\n",
      "Requirement already satisfied: ipython in c:\\users\\visha\\.conda\\envs\\tensorflow-gpu\\lib\\site-packages (from keras-tuner) (7.25.0)\n",
      "Requirement already satisfied: numpy in c:\\users\\visha\\.conda\\envs\\tensorflow-gpu\\lib\\site-packages (from keras-tuner) (1.21.0)\n",
      "Requirement already satisfied: packaging in c:\\users\\visha\\.conda\\envs\\tensorflow-gpu\\lib\\site-packages (from keras-tuner) (20.9)\n",
      "Requirement already satisfied: requests in c:\\users\\visha\\.conda\\envs\\tensorflow-gpu\\lib\\site-packages (from keras-tuner) (2.25.1)\n",
      "Requirement already satisfied: backcall in c:\\users\\visha\\.conda\\envs\\tensorflow-gpu\\lib\\site-packages (from ipython->keras-tuner) (0.2.0)\n",
      "Requirement already satisfied: setuptools>=18.5 in c:\\users\\visha\\.conda\\envs\\tensorflow-gpu\\lib\\site-packages (from ipython->keras-tuner) (61.2.0)\n",
      "Requirement already satisfied: pickleshare in c:\\users\\visha\\.conda\\envs\\tensorflow-gpu\\lib\\site-packages (from ipython->keras-tuner) (0.7.5)\n",
      "Requirement already satisfied: traitlets>=4.2 in c:\\users\\visha\\appdata\\roaming\\python\\python39\\site-packages (from ipython->keras-tuner) (5.2.1.post0)\n",
      "Requirement already satisfied: pygments in c:\\users\\visha\\.conda\\envs\\tensorflow-gpu\\lib\\site-packages (from ipython->keras-tuner) (2.9.0)\n",
      "Requirement already satisfied: matplotlib-inline in c:\\users\\visha\\.conda\\envs\\tensorflow-gpu\\lib\\site-packages (from ipython->keras-tuner) (0.1.2)\n",
      "Requirement already satisfied: colorama in c:\\users\\visha\\.conda\\envs\\tensorflow-gpu\\lib\\site-packages (from ipython->keras-tuner) (0.4.4)\n",
      "Requirement already satisfied: jedi>=0.16 in c:\\users\\visha\\.conda\\envs\\tensorflow-gpu\\lib\\site-packages (from ipython->keras-tuner) (0.18.0)\n",
      "Requirement already satisfied: prompt-toolkit!=3.0.0,!=3.0.1,<3.1.0,>=2.0.0 in c:\\users\\visha\\.conda\\envs\\tensorflow-gpu\\lib\\site-packages (from ipython->keras-tuner) (3.0.19)\n",
      "Requirement already satisfied: decorator in c:\\users\\visha\\.conda\\envs\\tensorflow-gpu\\lib\\site-packages (from ipython->keras-tuner) (5.0.9)\n",
      "Requirement already satisfied: parso<0.9.0,>=0.8.0 in c:\\users\\visha\\.conda\\envs\\tensorflow-gpu\\lib\\site-packages (from jedi>=0.16->ipython->keras-tuner) (0.8.2)\n",
      "Requirement already satisfied: wcwidth in c:\\users\\visha\\.conda\\envs\\tensorflow-gpu\\lib\\site-packages (from prompt-toolkit!=3.0.0,!=3.0.1,<3.1.0,>=2.0.0->ipython->keras-tuner) (0.2.5)\n",
      "Requirement already satisfied: pyparsing>=2.0.2 in c:\\users\\visha\\.conda\\envs\\tensorflow-gpu\\lib\\site-packages (from packaging->keras-tuner) (2.4.7)\n",
      "Requirement already satisfied: urllib3<1.27,>=1.21.1 in c:\\users\\visha\\.conda\\envs\\tensorflow-gpu\\lib\\site-packages (from requests->keras-tuner) (1.26.6)\n",
      "Requirement already satisfied: certifi>=2017.4.17 in c:\\users\\visha\\.conda\\envs\\tensorflow-gpu\\lib\\site-packages (from requests->keras-tuner) (2022.5.18.1)\n",
      "Requirement already satisfied: chardet<5,>=3.0.2 in c:\\users\\visha\\.conda\\envs\\tensorflow-gpu\\lib\\site-packages (from requests->keras-tuner) (4.0.0)\n",
      "Requirement already satisfied: idna<3,>=2.5 in c:\\users\\visha\\.conda\\envs\\tensorflow-gpu\\lib\\site-packages (from requests->keras-tuner) (2.10)\n",
      "Requirement already satisfied: tensorboard-plugin-wit>=1.6.0 in c:\\users\\visha\\.conda\\envs\\tensorflow-gpu\\lib\\site-packages (from tensorboard->keras-tuner) (1.8.0)\n",
      "Requirement already satisfied: markdown>=2.6.8 in c:\\users\\visha\\.conda\\envs\\tensorflow-gpu\\lib\\site-packages (from tensorboard->keras-tuner) (3.3.4)\n",
      "Requirement already satisfied: google-auth-oauthlib<0.5,>=0.4.1 in c:\\users\\visha\\.conda\\envs\\tensorflow-gpu\\lib\\site-packages (from tensorboard->keras-tuner) (0.4.6)\n",
      "Requirement already satisfied: six>=1.10.0 in c:\\users\\visha\\.conda\\envs\\tensorflow-gpu\\lib\\site-packages (from tensorboard->keras-tuner) (1.16.0)\n",
      "Requirement already satisfied: wheel>=0.26 in c:\\users\\visha\\.conda\\envs\\tensorflow-gpu\\lib\\site-packages (from tensorboard->keras-tuner) (0.37.1)\n",
      "Requirement already satisfied: google-auth<2,>=1.6.3 in c:\\users\\visha\\.conda\\envs\\tensorflow-gpu\\lib\\site-packages (from tensorboard->keras-tuner) (1.35.0)\n",
      "Requirement already satisfied: grpcio>=1.24.3 in c:\\users\\visha\\.conda\\envs\\tensorflow-gpu\\lib\\site-packages (from tensorboard->keras-tuner) (1.38.1)\n",
      "Requirement already satisfied: werkzeug>=0.11.15 in c:\\users\\visha\\.conda\\envs\\tensorflow-gpu\\lib\\site-packages (from tensorboard->keras-tuner) (2.0.1)\n",
      "Requirement already satisfied: absl-py>=0.4 in c:\\users\\visha\\.conda\\envs\\tensorflow-gpu\\lib\\site-packages (from tensorboard->keras-tuner) (0.13.0)\n",
      "Requirement already satisfied: protobuf>=3.6.0 in c:\\users\\visha\\.conda\\envs\\tensorflow-gpu\\lib\\site-packages (from tensorboard->keras-tuner) (3.17.3)\n",
      "Requirement already satisfied: pyasn1-modules>=0.2.1 in c:\\users\\visha\\.conda\\envs\\tensorflow-gpu\\lib\\site-packages (from google-auth<2,>=1.6.3->tensorboard->keras-tuner) (0.2.8)\n",
      "Requirement already satisfied: cachetools<5.0,>=2.0.0 in c:\\users\\visha\\.conda\\envs\\tensorflow-gpu\\lib\\site-packages (from google-auth<2,>=1.6.3->tensorboard->keras-tuner) (4.2.2)\n",
      "Requirement already satisfied: rsa<5,>=3.1.4 in c:\\users\\visha\\.conda\\envs\\tensorflow-gpu\\lib\\site-packages (from google-auth<2,>=1.6.3->tensorboard->keras-tuner) (4.7.2)\n",
      "Requirement already satisfied: requests-oauthlib>=0.7.0 in c:\\users\\visha\\.conda\\envs\\tensorflow-gpu\\lib\\site-packages (from google-auth-oauthlib<0.5,>=0.4.1->tensorboard->keras-tuner) (1.3.0)\n",
      "Requirement already satisfied: pyasn1<0.5.0,>=0.4.6 in c:\\users\\visha\\.conda\\envs\\tensorflow-gpu\\lib\\site-packages (from pyasn1-modules>=0.2.1->google-auth<2,>=1.6.3->tensorboard->keras-tuner) (0.4.8)\n",
      "Requirement already satisfied: oauthlib>=3.0.0 in c:\\users\\visha\\.conda\\envs\\tensorflow-gpu\\lib\\site-packages (from requests-oauthlib>=0.7.0->google-auth-oauthlib<0.5,>=0.4.1->tensorboard->keras-tuner) (3.1.1)\n",
      "Installing collected packages: kt-legacy, keras-tuner\n",
      "Successfully installed keras-tuner-1.1.2 kt-legacy-1.0.4\n"
     ]
    }
   ],
   "source": [
    "!pip install keras-tuner"
   ]
  },
  {
   "cell_type": "code",
   "execution_count": 2,
   "id": "b8b7afa5",
   "metadata": {},
   "outputs": [],
   "source": [
    "import tensorflow as tf\n",
    "from tensorflow import keras\n",
    "import numpy as np"
   ]
  },
  {
   "cell_type": "code",
   "execution_count": 7,
   "id": "03a84a2b",
   "metadata": {},
   "outputs": [
    {
     "data": {
      "text/plain": [
       "True"
      ]
     },
     "execution_count": 7,
     "metadata": {},
     "output_type": "execute_result"
    }
   ],
   "source": [
    "is_cuda_gpu_available = tf.test.is_gpu_available(cuda_only=True)\n",
    "is_cuda_gpu_available"
   ]
  },
  {
   "cell_type": "code",
   "execution_count": 8,
   "id": "d22bf148",
   "metadata": {},
   "outputs": [],
   "source": [
    "fashion_mnist = keras.datasets.fashion_mnist"
   ]
  },
  {
   "cell_type": "code",
   "execution_count": 9,
   "id": "8b9b84a7",
   "metadata": {},
   "outputs": [],
   "source": [
    "(train_img, train_lbls), (test_img, test_lbl) = fashion_mnist.load_data()"
   ]
  },
  {
   "cell_type": "code",
   "execution_count": 10,
   "id": "ab7f416a",
   "metadata": {},
   "outputs": [],
   "source": [
    "# scaling\n",
    "train_img = train_img/255\n",
    "test_img = test_img/255"
   ]
  },
  {
   "cell_type": "code",
   "execution_count": 11,
   "id": "8657598a",
   "metadata": {},
   "outputs": [
    {
     "data": {
      "text/plain": [
       "(28, 28)"
      ]
     },
     "execution_count": 11,
     "metadata": {},
     "output_type": "execute_result"
    }
   ],
   "source": [
    "train_img[0].shape"
   ]
  },
  {
   "cell_type": "code",
   "execution_count": 12,
   "id": "b409d1f5",
   "metadata": {},
   "outputs": [],
   "source": [
    "train_img = train_img.reshape(len(train_img), 28, 28, 1)\n",
    "test_img = test_img.reshape(len(test_img), 28, 28, 1)"
   ]
  },
  {
   "cell_type": "code",
   "execution_count": 14,
   "id": "d3e781ce",
   "metadata": {},
   "outputs": [
    {
     "data": {
      "text/plain": [
       "(28, 28, 1)"
      ]
     },
     "execution_count": 14,
     "metadata": {},
     "output_type": "execute_result"
    }
   ],
   "source": [
    "test_img[0].shape"
   ]
  },
  {
   "cell_type": "code",
   "execution_count": 19,
   "id": "1907e64f",
   "metadata": {},
   "outputs": [],
   "source": [
    "def build_model(hp):\n",
    "    \n",
    "    model = keras.Sequential([\n",
    "    keras.layers.Conv2D(\n",
    "        filters=hp.Int('conv_1_filter', min_value=32, max_value=128, step=16),\n",
    "        kernel_size=hp.Choice('conv_1_kernel', values = [3,5]),\n",
    "        activation='relu',\n",
    "        input_shape=(28,28,1)\n",
    "    ),\n",
    "    keras.layers.Conv2D(\n",
    "        filters=hp.Int('conv_2_filter', min_value=32, max_value=64, step=16),\n",
    "        kernel_size=hp.Choice('conv_2_kernel', values = [3,5]),\n",
    "        activation='relu'\n",
    "    ),\n",
    "    keras.layers.Flatten(),\n",
    "    keras.layers.Dense(\n",
    "        units=hp.Int('dense_1_units', min_value=32, max_value=128, step=16),\n",
    "        activation='relu'\n",
    "    ),\n",
    "    keras.layers.Dense(10, activation='softmax')\n",
    "  ])\n",
    "  \n",
    "    model.compile(optimizer=keras.optimizers.Adam(hp.Choice('learning_rate', values=[1e-2, 1e-3])),\n",
    "              loss='sparse_categorical_crossentropy',\n",
    "              metrics=['accuracy'])\n",
    "  \n",
    "    return model"
   ]
  },
  {
   "cell_type": "code",
   "execution_count": 20,
   "id": "e4457a9b",
   "metadata": {},
   "outputs": [
    {
     "name": "stderr",
     "output_type": "stream",
     "text": [
      "C:\\Users\\Visha\\AppData\\Local\\Temp\\ipykernel_17004\\556418634.py:1: DeprecationWarning: `import kerastuner` is deprecated, please use `import keras_tuner`.\n",
      "  from kerastuner import RandomSearch\n"
     ]
    }
   ],
   "source": [
    "from kerastuner import RandomSearch\n",
    "from kerastuner.engine.hyperparameters import HyperParameters"
   ]
  },
  {
   "cell_type": "code",
   "execution_count": 21,
   "id": "47f48ada",
   "metadata": {},
   "outputs": [],
   "source": [
    "tuner_search=RandomSearch(build_model,\n",
    "                          objective='val_accuracy',\n",
    "                          max_trials=5,directory='output',project_name=\"Mnist Fashion\")"
   ]
  },
  {
   "cell_type": "code",
   "execution_count": 25,
   "id": "f7756844",
   "metadata": {
    "scrolled": true
   },
   "outputs": [
    {
     "name": "stdout",
     "output_type": "stream",
     "text": [
      "Trial 5 Complete [00h 00m 22s]\n",
      "val_accuracy: 0.906499981880188\n",
      "\n",
      "Best val_accuracy So Far: 0.9120000004768372\n",
      "Total elapsed time: 00h 02m 21s\n",
      "INFO:tensorflow:Oracle triggered exit\n"
     ]
    }
   ],
   "source": [
    "tuner_search.search(train_img,train_lbls,epochs=3,validation_split=0.1)"
   ]
  },
  {
   "cell_type": "code",
   "execution_count": 26,
   "id": "cc59295a",
   "metadata": {},
   "outputs": [],
   "source": [
    "model=tuner_search.get_best_models(num_models=1)[0]"
   ]
  },
  {
   "cell_type": "code",
   "execution_count": 27,
   "id": "a572b8aa",
   "metadata": {},
   "outputs": [
    {
     "name": "stdout",
     "output_type": "stream",
     "text": [
      "Model: \"sequential\"\n",
      "_________________________________________________________________\n",
      " Layer (type)                Output Shape              Param #   \n",
      "=================================================================\n",
      " conv2d (Conv2D)             (None, 26, 26, 112)       1120      \n",
      "                                                                 \n",
      " conv2d_1 (Conv2D)           (None, 22, 22, 64)        179264    \n",
      "                                                                 \n",
      " flatten (Flatten)           (None, 30976)             0         \n",
      "                                                                 \n",
      " dense (Dense)               (None, 64)                1982528   \n",
      "                                                                 \n",
      " dense_1 (Dense)             (None, 10)                650       \n",
      "                                                                 \n",
      "=================================================================\n",
      "Total params: 2,163,562\n",
      "Trainable params: 2,163,562\n",
      "Non-trainable params: 0\n",
      "_________________________________________________________________\n"
     ]
    }
   ],
   "source": [
    "model.summary()"
   ]
  },
  {
   "cell_type": "code",
   "execution_count": 29,
   "id": "26fc2b24",
   "metadata": {},
   "outputs": [
    {
     "name": "stdout",
     "output_type": "stream",
     "text": [
      "Epoch 4/10\n",
      "1688/1688 [==============================] - 10s 6ms/step - loss: 0.1352 - accuracy: 0.9484 - val_loss: 0.2901 - val_accuracy: 0.9098\n",
      "Epoch 5/10\n",
      "1688/1688 [==============================] - 10s 6ms/step - loss: 0.0968 - accuracy: 0.9639 - val_loss: 0.2942 - val_accuracy: 0.9090\n",
      "Epoch 6/10\n",
      "1688/1688 [==============================] - 9s 6ms/step - loss: 0.0684 - accuracy: 0.9749 - val_loss: 0.3206 - val_accuracy: 0.9090\n",
      "Epoch 7/10\n",
      "1688/1688 [==============================] - 9s 6ms/step - loss: 0.0476 - accuracy: 0.9823 - val_loss: 0.3805 - val_accuracy: 0.9073\n",
      "Epoch 8/10\n",
      "1688/1688 [==============================] - 10s 6ms/step - loss: 0.0424 - accuracy: 0.9847 - val_loss: 0.4481 - val_accuracy: 0.9080\n",
      "Epoch 9/10\n",
      "1688/1688 [==============================] - 9s 6ms/step - loss: 0.0304 - accuracy: 0.9891 - val_loss: 0.4555 - val_accuracy: 0.9103\n",
      "Epoch 10/10\n",
      "1688/1688 [==============================] - 9s 6ms/step - loss: 0.0268 - accuracy: 0.9902 - val_loss: 0.5206 - val_accuracy: 0.9040\n"
     ]
    },
    {
     "data": {
      "text/plain": [
       "<keras.callbacks.History at 0x2227e1d1c10>"
      ]
     },
     "execution_count": 29,
     "metadata": {},
     "output_type": "execute_result"
    }
   ],
   "source": [
    "model.fit(train_img, train_lbls, epochs=10, validation_split=0.1, initial_epoch=3)"
   ]
  }
 ],
 "metadata": {
  "kernelspec": {
   "display_name": "Python 3 (ipykernel)",
   "language": "python",
   "name": "python3"
  },
  "language_info": {
   "codemirror_mode": {
    "name": "ipython",
    "version": 3
   },
   "file_extension": ".py",
   "mimetype": "text/x-python",
   "name": "python",
   "nbconvert_exporter": "python",
   "pygments_lexer": "ipython3",
   "version": "3.9.12"
  }
 },
 "nbformat": 4,
 "nbformat_minor": 5
}
