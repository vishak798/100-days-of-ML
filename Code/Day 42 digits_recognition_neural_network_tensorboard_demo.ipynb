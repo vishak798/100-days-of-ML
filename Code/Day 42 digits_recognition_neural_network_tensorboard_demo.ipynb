{
 "cells": [
  {
   "cell_type": "markdown",
   "metadata": {},
   "source": [
    "In this notebook we will classify handwritten digits using a simple neural network which has only input and output layers. We will than add a hidden layer and see how the performance of the model improves"
   ]
  },
  {
   "cell_type": "markdown",
   "metadata": {},
   "source": [
    "<h2 style=\"color:blue\" align=\"center\">Tensorboard demo using handwritten digits classification using neural network</h2>"
   ]
  },
  {
   "cell_type": "code",
   "execution_count": 1,
   "metadata": {},
   "outputs": [],
   "source": [
    "import tensorflow as tf\n",
    "from tensorflow import keras\n",
    "import matplotlib.pyplot as plt\n",
    "%matplotlib inline\n",
    "import numpy as np"
   ]
  },
  {
   "cell_type": "code",
   "execution_count": 2,
   "metadata": {},
   "outputs": [],
   "source": [
    "(X_train, y_train) , (X_test, y_test) = keras.datasets.mnist.load_data()"
   ]
  },
  {
   "cell_type": "code",
   "execution_count": 3,
   "metadata": {},
   "outputs": [
    {
     "data": {
      "text/plain": [
       "60000"
      ]
     },
     "execution_count": 3,
     "metadata": {},
     "output_type": "execute_result"
    }
   ],
   "source": [
    "len(X_train)"
   ]
  },
  {
   "cell_type": "code",
   "execution_count": 4,
   "metadata": {},
   "outputs": [
    {
     "data": {
      "text/plain": [
       "10000"
      ]
     },
     "execution_count": 4,
     "metadata": {},
     "output_type": "execute_result"
    }
   ],
   "source": [
    "len(X_test)"
   ]
  },
  {
   "cell_type": "code",
   "execution_count": 5,
   "metadata": {},
   "outputs": [
    {
     "data": {
      "text/plain": [
       "(28, 28)"
      ]
     },
     "execution_count": 5,
     "metadata": {},
     "output_type": "execute_result"
    }
   ],
   "source": [
    "X_train[0].shape"
   ]
  },
  {
   "cell_type": "code",
   "execution_count": 6,
   "metadata": {},
   "outputs": [
    {
     "data": {
      "text/plain": [
       "<matplotlib.image.AxesImage at 0x246dda04c70>"
      ]
     },
     "execution_count": 6,
     "metadata": {},
     "output_type": "execute_result"
    },
    {
     "data": {
      "image/png": "[encoded data removed]",
      "text/plain": [
       "<Figure size 288x288 with 1 Axes>"
      ]
     },
     "metadata": {
      "needs_background": "light"
     },
     "output_type": "display_data"
    }
   ],
   "source": [
    "plt.matshow(X_train[0])"
   ]
  },
  {
   "cell_type": "code",
   "execution_count": 7,
   "metadata": {},
   "outputs": [
    {
     "data": {
      "text/plain": [
       "5"
      ]
     },
     "execution_count": 7,
     "metadata": {},
     "output_type": "execute_result"
    }
   ],
   "source": [
    "y_train[0]"
   ]
  },
  {
   "cell_type": "code",
   "execution_count": 8,
   "metadata": {},
   "outputs": [],
   "source": [
    "X_train = X_train / 255\n",
    "X_test = X_test / 255"
   ]
  },
  {
   "cell_type": "code",
   "execution_count": 9,
   "metadata": {},
   "outputs": [],
   "source": [
    "X_train_flattened = X_train.reshape(len(X_train), 28*28)\n",
    "X_test_flattened = X_test.reshape(len(X_test), 28*28)"
   ]
  },
  {
   "cell_type": "code",
   "execution_count": 10,
   "metadata": {},
   "outputs": [
    {
     "data": {
      "text/plain": [
       "(60000, 784)"
      ]
     },
     "execution_count": 10,
     "metadata": {},
     "output_type": "execute_result"
    }
   ],
   "source": [
    "X_train_flattened.shape"
   ]
  },
  {
   "cell_type": "markdown",
   "metadata": {},
   "source": [
    "<h3 style='color:purple'>Using Flatten layer so that we don't have to call .reshape on input dataset</h3>"
   ]
  },
  {
   "cell_type": "code",
   "execution_count": 11,
   "metadata": {
    "scrolled": false
   },
   "outputs": [
    {
     "name": "stdout",
     "output_type": "stream",
     "text": [
      "Epoch 1/5\n",
      "1875/1875 [==============================] - 1s 613us/step - loss: 0.2732 - accuracy: 0.9226\n",
      "Epoch 2/5\n",
      "1875/1875 [==============================] - 1s 620us/step - loss: 0.1233 - accuracy: 0.9638\n",
      "Epoch 3/5\n",
      "1875/1875 [==============================] - 1s 616us/step - loss: 0.0861 - accuracy: 0.9746\n",
      "Epoch 4/5\n",
      "1875/1875 [==============================] - 1s 610us/step - loss: 0.0674 - accuracy: 0.9792\n",
      "Epoch 5/5\n",
      "1875/1875 [==============================] - 1s 604us/step - loss: 0.0526 - accuracy: 0.9838\n"
     ]
    },
    {
     "data": {
      "text/plain": [
       "<keras.callbacks.History at 0x246da7e1f40>"
      ]
     },
     "execution_count": 11,
     "metadata": {},
     "output_type": "execute_result"
    }
   ],
   "source": [
    "model = keras.Sequential([\n",
    "    keras.layers.Flatten(input_shape=(28, 28)),\n",
    "    keras.layers.Dense(100, activation='relu'),\n",
    "    keras.layers.Dense(10, activation='sigmoid')\n",
    "])\n",
    "\n",
    "model.compile(optimizer='adam',\n",
    "              loss='sparse_categorical_crossentropy',\n",
    "              metrics=['accuracy'])\n",
    "\n",
    "tb_callback = tf.keras.callbacks.TensorBoard(log_dir=\"logs/\", histogram_freq=1)\n",
    "\n",
    "model.fit(X_train, y_train, epochs=5, callbacks=[tb_callback])"
   ]
  },
  {
   "cell_type": "code",
   "execution_count": 12,
   "metadata": {},
   "outputs": [],
   "source": [
    "# %load_ext tensorboard\n",
    "# %tensorboard --logdir logs/fit"
   ]
  },
  {
   "cell_type": "markdown",
   "metadata": {},
   "source": [
    "Either run above inline magic or go to git bash or your command prompt and type below to run it,\n",
    "`tensorboard --logdir logs/`\n",
    "This will launch tensorboard at this url which you can open in your browser `http://localhost:6006/`"
   ]
  },
  {
   "cell_type": "code",
   "execution_count": 13,
   "metadata": {},
   "outputs": [
    {
     "data": {
      "text/plain": [
       "[array([[ 0.00506803, -0.06816731, -0.06368009, ..., -0.02314919,\n",
       "          0.03003517, -0.01760872],\n",
       "        [-0.02690735, -0.03227119, -0.07390068, ...,  0.01868456,\n",
       "         -0.08084331,  0.03528819],\n",
       "        [-0.04704716, -0.07875957,  0.05555449, ..., -0.00402315,\n",
       "         -0.03514366,  0.04002132],\n",
       "        ...,\n",
       "        [-0.0729377 ,  0.00793296, -0.01504979, ..., -0.04388302,\n",
       "         -0.0212856 ,  0.00872298],\n",
       "        [-0.01450596,  0.06140146,  0.01812381, ...,  0.07643534,\n",
       "          0.05958268,  0.01693662],\n",
       "        [-0.00566357,  0.06858706,  0.0374121 , ..., -0.01954078,\n",
       "         -0.03953671, -0.07195499]], dtype=float32),\n",
       " array([ 0.06687257,  0.06995872,  0.03611562,  0.07399879,  0.08554802,\n",
       "        -0.01519078,  0.00172929,  0.03873563, -0.07062035, -0.0171828 ,\n",
       "         0.07439952,  0.05718894,  0.12608798,  0.04130425, -0.05148511,\n",
       "        -0.020448  ,  0.07907575,  0.14033692,  0.08354704,  0.16652158,\n",
       "         0.04399183,  0.10490174, -0.06597061, -0.09574447,  0.01715181,\n",
       "        -0.02974027,  0.01240528,  0.06924778, -0.08677239,  0.26736885,\n",
       "         0.08876113,  0.03172793, -0.16629489, -0.00796963,  0.03055396,\n",
       "         0.05493462,  0.03970071,  0.02221711, -0.02581255,  0.2626109 ,\n",
       "         0.09639197, -0.07864368,  0.04956748,  0.02025041, -0.08051996,\n",
       "         0.04701935,  0.02414672,  0.01871961, -0.03498731, -0.03900831,\n",
       "         0.11402115, -0.08573992, -0.07339003,  0.05819841,  0.09201425,\n",
       "        -0.06974205,  0.00143878, -0.00583015,  0.07297383,  0.15286596,\n",
       "        -0.10589597,  0.0274585 ,  0.05349588,  0.12645003,  0.06511507,\n",
       "         0.0990072 , -0.06427783, -0.10178057, -0.05387788, -0.12447958,\n",
       "        -0.01990458,  0.06466407, -0.11779553, -0.07238244,  0.12088053,\n",
       "         0.04909679,  0.09665158,  0.01595987, -0.01136644,  0.11527033,\n",
       "         0.03199728,  0.11553719,  0.1009032 , -0.01414316, -0.11697529,\n",
       "        -0.02666451, -0.0920069 ,  0.1020323 , -0.03364305,  0.07319586,\n",
       "         0.19535443,  0.04834079,  0.0736753 ,  0.10827655, -0.12436995,\n",
       "         0.01541016,  0.06568522,  0.00780917,  0.07130339,  0.00455976],\n",
       "       dtype=float32),\n",
       " array([[-0.450166  ,  0.34527853,  0.27923802,  0.3902694 ,  0.05255349,\n",
       "         -0.19357531, -0.17224959,  0.6411908 , -0.02187243, -0.6006782 ],\n",
       "        [-0.44082096, -0.32004866, -0.07881084,  0.07344224,  0.21681303,\n",
       "          0.03996947, -0.5797163 ,  0.14203005,  0.25658563,  0.23753946],\n",
       "        [-0.18723327, -0.10590316, -0.09500775,  0.00762405, -0.1847463 ,\n",
       "         -0.10976086, -0.32623747,  0.11418258,  0.2093285 ,  0.13037594],\n",
       "        [-0.44202426,  0.34490362, -0.35511562, -0.16360572, -0.3331523 ,\n",
       "         -0.09697343,  0.032918  , -0.06605018, -0.28680453,  0.54021835],\n",
       "        [ 0.2016598 , -0.24883825,  0.1009078 , -0.0507076 , -0.12481014,\n",
       "          0.01265453,  0.19611618,  0.08821819, -0.03052084, -0.23979783],\n",
       "        [ 0.00163456, -0.02994676, -0.12894538, -0.15843712,  0.01242182,\n",
       "         -0.11810263,  0.30323854, -0.37121913, -0.02809665, -0.1948257 ],\n",
       "        [ 0.16325854,  0.01547902, -0.10989594,  0.20086375, -0.09836921,\n",
       "          0.11144222, -0.18847892, -0.05514066,  0.2066847 ,  0.1408404 ],\n",
       "        [-0.73177636,  0.21858652, -0.04048441, -0.38395885,  0.18865503,\n",
       "          0.44207373,  0.20823267, -0.38543507, -0.28112358, -0.11541197],\n",
       "        [-0.05514332,  0.08458042, -0.06982409, -0.24575865, -0.16150871,\n",
       "         -0.0234693 ,  0.0051955 , -0.1267407 , -0.15188937,  0.04670256],\n",
       "        [-0.1446138 ,  0.12765016, -0.07698631, -0.10162446,  0.10398466,\n",
       "         -0.18600614, -0.12985548,  0.08333921,  0.00408046,  0.2157125 ],\n",
       "        [ 0.06505247, -0.31809154, -0.56159526,  0.22672513, -0.21621585,\n",
       "          0.04553382,  0.19148968, -0.00453401,  0.3078848 ,  0.22044979],\n",
       "        [-0.3493792 ,  0.47190237,  0.23505998, -0.05064897,  0.29206666,\n",
       "          0.07785697, -0.47954994, -0.47205546,  0.32996753, -0.30676052],\n",
       "        [ 0.12799622, -0.33342373,  0.04627027, -0.14719145, -0.03028318,\n",
       "          0.23348136, -0.14891854, -0.07737473,  0.14795667,  0.12655807],\n",
       "        [ 0.24105673, -0.24142751,  0.19018738, -0.20367411, -0.49385822,\n",
       "         -0.19472516, -0.3963763 ,  0.30161542,  0.11120552,  0.22838849],\n",
       "        [ 0.33258393,  0.04772826, -0.24970476,  0.30178005, -0.08253925,\n",
       "         -0.55595684,  0.2809495 , -0.26024202, -0.46965638, -0.03770403],\n",
       "        [-0.22341911, -0.19102721,  0.1586785 ,  0.16633694,  0.18185176,\n",
       "          0.0857642 , -0.03398049,  0.17831267, -0.22675337,  0.00738012],\n",
       "        [ 0.0949661 , -0.33640456, -0.27976286, -0.21277493,  0.21483119,\n",
       "          0.2411131 ,  0.17441803, -0.13899058,  0.2542081 ,  0.19837278],\n",
       "        [-0.20885663,  0.20687245,  0.0412683 , -0.32286412,  0.22988482,\n",
       "          0.16897985,  0.2317082 , -0.33829525,  0.24520968,  0.18417206],\n",
       "        [-0.21791251,  0.26226845,  0.2081031 , -0.53291917, -0.24095728,\n",
       "          0.00969069,  0.30447194, -0.07350701,  0.08314817, -0.51060927],\n",
       "        [-0.08397643, -0.46730113, -0.441868  , -0.646662  ,  0.19824077,\n",
       "          0.4706441 ,  0.32025972,  0.20120059, -0.04303814, -0.32298455],\n",
       "        [-0.23297194, -0.3012332 , -0.1086048 , -0.299631  ,  0.09721182,\n",
       "          0.21503933,  0.19938757,  0.20034845,  0.2852312 ,  0.05395048],\n",
       "        [-0.6374738 , -0.5442576 ,  0.16174449,  0.4320925 ,  0.15369017,\n",
       "          0.37258768, -0.5239541 , -0.35821712, -0.23312783,  0.29497808],\n",
       "        [-0.54924744, -0.06337857,  0.47359517,  0.4989297 , -0.8718611 ,\n",
       "         -0.09864272, -0.68738425,  0.6545656 , -0.23023206, -0.86925447],\n",
       "        [ 0.2828596 , -0.10060587,  0.16693488,  0.1882466 ,  0.00327688,\n",
       "          0.10508358,  0.01164702,  0.01997477,  0.23318695,  0.04758625],\n",
       "        [ 0.282754  ,  0.16865046, -0.41295052, -0.21330602, -0.07142083,\n",
       "          0.32629526,  0.28505075, -0.27508697, -0.12861224, -0.38353485],\n",
       "        [-0.33818614,  0.1665946 , -0.11754373, -0.1219242 ,  0.19565411,\n",
       "         -0.37084088, -0.15405607, -0.3297693 ,  0.12006863,  0.2872348 ],\n",
       "        [-0.27270257,  0.12314091,  0.21115205, -0.33646095, -0.26548034,\n",
       "         -0.2182882 , -0.06664158, -0.39790905,  0.60908866,  0.21034385],\n",
       "        [-0.24122523,  0.07849033, -0.3069136 , -0.38928607, -0.02612244,\n",
       "         -0.03482983, -0.29210967,  0.20262437, -0.5106754 ,  0.1412015 ],\n",
       "        [ 0.15825015, -0.10765874, -0.05189127, -0.02993142,  0.03929809,\n",
       "         -0.5575289 , -0.32450786,  0.1181173 , -0.14838347,  0.15263826],\n",
       "        [ 0.17120662, -0.5646089 ,  0.2527433 , -0.04502251, -0.8355858 ,\n",
       "          0.56616294, -0.7432607 ,  0.15708815, -0.22072197, -0.01797196],\n",
       "        [ 0.11951046,  0.12140343,  0.2818451 ,  0.1747073 ,  0.06386817,\n",
       "         -0.06122598,  0.1987912 ,  0.29159743, -0.9124817 ,  0.23149858],\n",
       "        [ 0.30758366, -0.03936794,  0.36504143, -0.3637176 ,  0.36397898,\n",
       "         -0.49211395, -0.10569841,  0.01116471, -0.41933036,  0.19865088],\n",
       "        [-0.0521346 ,  0.09424076, -0.08603019,  0.1659148 ,  0.21081984,\n",
       "         -0.26029253, -0.04609382, -0.06381392,  0.17220297, -0.39700916],\n",
       "        [ 0.24291168, -0.35387555, -0.18658288,  0.22544724, -0.23231964,\n",
       "          0.03190602, -0.6357404 ,  0.18806466, -0.0929334 ,  0.20434108],\n",
       "        [ 0.19584765, -0.40666246, -0.08052194, -0.08483024,  0.19024459,\n",
       "         -0.02593048,  0.05595981, -0.18312754,  0.01695922,  0.10857639],\n",
       "        [ 0.23146132,  0.46541366,  0.29209304,  0.00316072,  0.39779586,\n",
       "          0.11733586,  0.36283335, -0.38184208, -0.34256098, -0.68992984],\n",
       "        [ 0.22332972, -0.50541186, -0.1994343 ,  0.02457478, -0.37627992,\n",
       "          0.16758539,  0.23652731, -0.06394526,  0.03110056,  0.15324914],\n",
       "        [-0.15441582,  0.73909515, -0.47064716, -0.4155715 ,  0.60718405,\n",
       "         -0.30865476, -0.07688703, -0.29689544, -0.51617014, -0.41030815],\n",
       "        [-0.08058675,  0.06230789, -0.08009257,  0.16146205, -0.33911464,\n",
       "         -0.32490957, -0.03867193,  0.14463261,  0.18769372,  0.16606961],\n",
       "        [ 0.22591415, -0.3142018 , -0.49900365,  0.05981477, -0.5058107 ,\n",
       "          0.52531224,  0.12372903, -0.06255149,  0.11649189,  0.16186969],\n",
       "        [-0.00493249, -0.24962915,  0.20378564, -0.34714878,  0.00931293,\n",
       "         -0.0407943 , -0.11623397,  0.04432437,  0.21278657, -0.1596037 ],\n",
       "        [-0.21389185,  0.10402516,  0.34490797,  0.2337303 ,  0.12191188,\n",
       "         -0.5062328 , -0.43341133,  0.29990092,  0.17244622, -0.07844037],\n",
       "        [ 0.06405798, -0.34270626, -0.13985893, -0.066888  ,  0.15938245,\n",
       "         -0.09138186,  0.23566827, -0.1018853 ,  0.10928907,  0.1777893 ],\n",
       "        [ 0.41274363, -0.328608  ,  0.33346885, -0.02791215, -0.48555118,\n",
       "         -0.10551108, -0.11533286, -0.3235836 ,  0.18914458, -0.05331303],\n",
       "        [ 0.25080955, -0.22499524, -0.06151485, -0.09031712,  0.4413481 ,\n",
       "         -0.7359515 , -0.1310716 ,  0.36109948,  0.03877302, -0.02463718],\n",
       "        [-0.17341034, -0.22671852,  0.17913681,  0.01963866,  0.13016199,\n",
       "         -0.04050819,  0.22772434, -0.15183799,  0.18091181,  0.17216429],\n",
       "        [-0.5188121 ,  0.29190937,  0.4666159 ,  0.00940447, -0.25125986,\n",
       "          0.01890083, -0.58894914,  0.32703024, -0.74714905, -0.4730618 ],\n",
       "        [-0.15395975, -0.05335173,  0.09686793, -0.07711475,  0.2434124 ,\n",
       "         -0.01102334, -0.12551306, -0.47296196,  0.2372983 , -0.44859588],\n",
       "        [-0.14616898, -0.15510066, -0.14112754,  0.11708409, -0.13314544,\n",
       "         -0.10039802, -0.21184033,  0.10894936,  0.00951375,  0.09147856],\n",
       "        [ 0.10360729, -0.35009858, -0.16964589,  0.2956025 ,  0.13575087,\n",
       "          0.04038243,  0.22887982,  0.01913673,  0.00933628, -0.632222  ],\n",
       "        [ 0.13876605, -0.16071987,  0.18467997, -0.33848995, -0.27771392,\n",
       "         -0.26244918,  0.15106925,  0.1162951 ,  0.09116357, -0.21163288],\n",
       "        [ 0.01098578,  0.31406748,  0.24768366, -0.17175163,  0.56858736,\n",
       "         -0.68605554,  0.07502099,  0.00948835, -0.08538608, -0.6355638 ],\n",
       "        [-0.4011549 ,  0.32611665, -0.15057574,  0.1621906 ,  0.00150038,\n",
       "          0.32155526,  0.10579615,  0.25998852, -0.33695167, -0.11477054],\n",
       "        [-0.22376461,  0.19463348,  0.15361969,  0.05597065, -0.24127048,\n",
       "          0.10060991, -0.13227008, -0.34993795,  0.20260137,  0.15118112],\n",
       "        [ 0.31090963, -0.07358265,  0.2586819 ,  0.08080367, -0.8488765 ,\n",
       "          0.14232874,  0.18860276,  0.25136852,  0.06389195, -0.16624352],\n",
       "        [-0.1829985 ,  0.20598908,  0.11132763,  0.08592907, -0.2527371 ,\n",
       "         -0.25130692, -0.24009366,  0.06276381,  0.16759211, -0.7104046 ],\n",
       "        [ 0.10240806,  0.18708561, -0.30867496,  0.01428609,  0.6003281 ,\n",
       "         -0.0012002 , -0.1255614 ,  0.09124872, -0.36005044, -0.3716708 ],\n",
       "        [-0.18643221, -0.57966995, -0.06594412,  0.27059558, -0.05234217,\n",
       "          0.21087343, -0.09016819, -0.4734311 ,  0.18130459, -0.07417426],\n",
       "        [ 0.1316068 , -0.6557609 , -0.24220233, -0.38023758,  0.37794554,\n",
       "          0.08362795, -0.17733021,  0.5540864 , -0.4719318 ,  0.09454566],\n",
       "        [ 0.19573593,  0.647889  , -0.2492547 , -0.46015176, -0.03282809,\n",
       "          0.02655337,  0.36589202,  0.18845914, -0.29199818, -0.13049886],\n",
       "        [-0.4131006 ,  0.26424637, -0.16637677,  0.53695405,  0.39003152,\n",
       "         -0.67238164, -0.43938047,  0.2594267 , -0.3480114 , -0.12838264],\n",
       "        [-0.02976373,  0.13503636,  0.06316647,  0.16197893, -0.2983317 ,\n",
       "         -0.08349121,  0.21249345, -0.309834  ,  0.21191955, -0.26189053],\n",
       "        [ 0.39006752, -0.034977  ,  0.20407535,  0.24705833, -0.5011463 ,\n",
       "          0.32437953, -0.1507911 , -0.00585817, -0.35564837,  0.24069117],\n",
       "        [-0.70980865,  0.29913813, -0.61552924,  0.3436089 ,  0.2829479 ,\n",
       "          0.41082957, -0.2589686 ,  0.17077179, -0.132433  , -0.07109646],\n",
       "        [-0.19270141, -0.6200761 , -0.01156304,  0.22691892,  0.1472745 ,\n",
       "         -0.10976037,  0.40575704,  0.19092649, -0.04157436,  0.07927598],\n",
       "        [ 0.02391748, -0.14554736,  0.20741431, -0.03279963,  0.01645455,\n",
       "          0.0953068 ,  0.21941231, -0.55109924,  0.08206384, -0.07384273],\n",
       "        [ 0.1312787 , -0.02804968,  0.16348648,  0.14495146,  0.2805405 ,\n",
       "         -0.13282809, -0.44837528,  0.23055662,  0.16982022,  0.26457855],\n",
       "        [ 0.17622615, -0.07817116, -0.17331463,  0.15725051, -0.08400471,\n",
       "          0.07963839, -0.20750484, -0.31854272,  0.1576663 , -0.0017814 ],\n",
       "        [-0.36024362, -0.1488085 ,  0.2505195 ,  0.2644729 , -0.09746704,\n",
       "          0.25980204, -0.4900091 , -0.14201158, -0.07187729,  0.26800004],\n",
       "        [-0.40393567, -0.07667492,  0.3969876 ,  0.24644259, -0.37233624,\n",
       "         -0.27377644, -0.42965373,  0.52852595, -0.06990549, -0.9823615 ],\n",
       "        [-0.18436818,  0.5060361 , -0.23088445, -0.7959697 ,  0.48958614,\n",
       "         -0.36165842, -0.3244755 ,  0.4284928 ,  0.00932382, -0.01188993],\n",
       "        [ 0.27039045, -0.5296482 , -0.09644041,  0.03580754, -0.22115612,\n",
       "         -0.10926951, -0.46680275,  0.19895077,  0.00122085,  0.23836932],\n",
       "        [ 0.14111862,  0.01971489,  0.18911956,  0.22639088, -0.7076868 ,\n",
       "         -0.34643817, -0.21290104, -0.12172838,  0.05678922, -0.03805758],\n",
       "        [-0.29112056,  0.16155724, -0.24030966,  0.4246336 , -0.14784455,\n",
       "          0.46091226, -0.43633392, -0.42430773,  0.04204509, -0.02914193],\n",
       "        [-0.32881463, -0.11627392,  0.40600342, -0.03873679,  0.2069559 ,\n",
       "         -0.2558469 ,  0.4124022 ,  0.3065443 , -0.15302812, -0.25599557],\n",
       "        [-0.12275023,  0.24640349,  0.2838222 , -0.1319493 , -0.01512673,\n",
       "         -0.8183485 , -0.7059228 , -0.0261395 , -0.0962153 ,  0.30259463],\n",
       "        [ 0.18353216, -0.35467586, -0.1587038 , -0.12810116,  0.10236309,\n",
       "         -0.02188017,  0.06570905,  0.00519208,  0.26240313, -0.006237  ],\n",
       "        [ 0.12373996,  0.2425935 , -0.68079627, -0.3453768 ,  0.20591478,\n",
       "          0.01594224,  0.09954098,  0.3016661 , -0.2444943 ,  0.27413687],\n",
       "        [-0.11245506,  0.3231776 , -0.37445953, -0.6108158 ,  0.33947676,\n",
       "          0.42279002,  0.2580822 , -0.09959656, -0.42910132, -0.02797715],\n",
       "        [-0.5163521 ,  0.00428487, -0.9951388 ,  0.18915527,  0.36655968,\n",
       "          0.3120898 , -0.25837672, -0.09701645,  0.01344143,  0.42682123],\n",
       "        [ 0.271343  , -0.29754832,  0.2541334 ,  0.07169299, -0.53668934,\n",
       "          0.12035257, -0.1725986 ,  0.13303459, -0.12523891, -0.25514635],\n",
       "        [-0.01499613,  0.5027582 , -0.21385495, -0.00723032, -0.93884414,\n",
       "          0.33966914, -0.16571487, -0.22566174, -0.43952924, -0.38502166],\n",
       "        [-0.78082097,  0.18780501,  0.3475626 , -0.470566  ,  0.17252102,\n",
       "         -0.35362107, -0.07773075,  0.5711073 , -0.18587902, -0.5351158 ],\n",
       "        [-0.69409204,  0.24493258,  0.42605534,  0.05404299, -0.5696106 ,\n",
       "          0.23416288,  0.00638828,  0.2020263 ,  0.3254519 , -0.62143147],\n",
       "        [-0.09316453,  0.15762949, -0.35416484,  0.40843242,  0.05822283,\n",
       "         -0.6983026 , -0.08096212,  0.091662  , -0.11080382,  0.09131477],\n",
       "        [-0.37644622,  0.02930741, -0.43061274,  0.24614781, -0.04824199,\n",
       "          0.3145373 ,  0.42708185, -0.06157631,  0.26620734,  0.02183565],\n",
       "        [-0.51208556,  0.06494968,  0.10000741,  0.30377012, -0.01680195,\n",
       "          0.26547077, -0.62860245, -0.34589133,  0.06806181,  0.32848668],\n",
       "        [-0.15611088, -0.1053507 , -0.24058187, -0.3309602 ,  0.09963123,\n",
       "          0.00878467, -0.66753906,  0.32166928, -0.24796772,  0.24449812],\n",
       "        [ 0.35032344, -0.00738888,  0.14351933, -0.22900446, -0.05927641,\n",
       "          0.09279761,  0.04374422, -0.22934204, -0.5201939 ,  0.20618486],\n",
       "        [-0.8185122 ,  0.28423908, -0.18081897,  0.25531802,  0.25894064,\n",
       "          0.33200678, -0.71462613,  0.28941572, -0.7413526 ,  0.07738774],\n",
       "        [-0.40844378,  0.04008901,  0.22238486, -0.5055952 , -0.34403092,\n",
       "          0.29883248,  0.27937555, -0.25629494, -0.14735614,  0.07731865],\n",
       "        [-0.11206591, -0.06045523,  0.12822896,  0.02364377, -0.1175851 ,\n",
       "         -0.11095612,  0.25015727, -0.16826323,  0.16196981, -0.01339164],\n",
       "        [ 0.20764846, -0.43695754,  0.06915317, -0.3485122 , -0.01116526,\n",
       "         -0.2345769 ,  0.14233115,  0.16449055, -0.26084387,  0.2527183 ],\n",
       "        [-0.4017508 ,  0.03673615,  0.23332074,  0.05985636,  0.12525441,\n",
       "          0.06937019,  0.00658911,  0.17403236,  0.23172247,  0.21583638],\n",
       "        [ 0.04396471, -0.43522546, -0.27320737,  0.37608346, -0.2248713 ,\n",
       "         -0.12203745,  0.11904112, -0.0836003 , -0.4353301 , -0.14593554],\n",
       "        [ 0.22904803,  0.19451281,  0.20402008, -0.59547544,  0.24559113,\n",
       "         -0.4848909 ,  0.11963983,  0.31406215,  0.0853297 ,  0.06533165],\n",
       "        [-0.5855759 ,  0.18366642,  0.00335717, -0.57790154, -0.6509506 ,\n",
       "          0.26763982,  0.36323038,  0.02714457, -0.0010822 , -0.07190612],\n",
       "        [-0.08693352, -0.10700238,  0.11731784,  0.14553961, -0.5435672 ,\n",
       "          0.20968318, -0.36202848, -0.557261  , -0.6214361 ,  0.38900483],\n",
       "        [-0.20254423, -0.48201346, -0.22797485, -0.16699065,  0.2584764 ,\n",
       "          0.36631215, -0.02969412, -0.48780364,  0.30234224, -0.3764307 ],\n",
       "        [ 0.28844047, -0.16787583,  0.45214343, -0.20868987,  0.20386544,\n",
       "          0.07981743,  0.21435602, -0.03931676, -0.5928002 , -0.53737444]],\n",
       "       dtype=float32),\n",
       " array([-0.09464668, -0.12841299,  0.03073457, -0.11253309, -0.06424392,\n",
       "         0.10622714,  0.05994656, -0.04573214,  0.11933869,  0.039819  ],\n",
       "       dtype=float32)]"
      ]
     },
     "execution_count": 13,
     "metadata": {},
     "output_type": "execute_result"
    }
   ],
   "source": [
    "model.get_weights()"
   ]
  }
 ],
 "metadata": {
  "kernelspec": {
   "display_name": "Python 3 (ipykernel)",
   "language": "python",
   "name": "python3"
  },
  "language_info": {
   "codemirror_mode": {
    "name": "ipython",
    "version": 3
   },
   "file_extension": ".py",
   "mimetype": "text/x-python",
   "name": "python",
   "nbconvert_exporter": "python",
   "pygments_lexer": "ipython3",
   "version": "3.9.7"
  }
 },
 "nbformat": 4,
 "nbformat_minor": 4
}
