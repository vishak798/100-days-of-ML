{
 "cells": [
  {
   "cell_type": "code",
   "execution_count": 9,
   "id": "fb785bcf",
   "metadata": {},
   "outputs": [],
   "source": [
    "import numpy as np\n",
    "from tensorflow.keras.preprocessing.text import one_hot"
   ]
  },
  {
   "cell_type": "code",
   "execution_count": 4,
   "id": "ec10c092",
   "metadata": {},
   "outputs": [],
   "source": [
    "# sentences using for the word embedding\n",
    "sent=['the glass of milk',\n",
    "     'the glass of juice',\n",
    "     'the cup of tea',\n",
    "    'I am a good boy',\n",
    "     'I am a good developer',\n",
    "     'understand the meaning of words',\n",
    "     'your videos are good',]"
   ]
  },
  {
   "cell_type": "code",
   "execution_count": 5,
   "id": "c4f3b2bc",
   "metadata": {},
   "outputs": [],
   "source": [
    "### Vocabulary size\n",
    "voc_size=10000"
   ]
  },
  {
   "cell_type": "markdown",
   "id": "83d98b95",
   "metadata": {},
   "source": [
    "### One_hot representation"
   ]
  },
  {
   "cell_type": "code",
   "execution_count": 7,
   "id": "1ef4f38f",
   "metadata": {},
   "outputs": [
    {
     "name": "stdout",
     "output_type": "stream",
     "text": [
      "[[7357, 5997, 651, 266], [7357, 5997, 651, 3068], [7357, 4837, 651, 8047], [9740, 3377, 4620, 1469, 407], [9740, 3377, 4620, 1469, 9774], [5609, 7357, 6717, 651, 6918], [4317, 2873, 7114, 1469]]\n"
     ]
    }
   ],
   "source": [
    "onehot_rep = [one_hot(word, voc_size) for word in sent]\n",
    "print(onehot_rep)"
   ]
  },
  {
   "cell_type": "markdown",
   "id": "49f0bac7",
   "metadata": {},
   "source": [
    "### Word Embedding Represntation"
   ]
  },
  {
   "cell_type": "code",
   "execution_count": 8,
   "id": "1a2dbac6",
   "metadata": {},
   "outputs": [],
   "source": [
    "from tensorflow.keras.layers import Embedding\n",
    "from tensorflow.keras.models import Sequential\n",
    "from tensorflow.keras.preprocessing.sequence import pad_sequences"
   ]
  },
  {
   "cell_type": "code",
   "execution_count": 10,
   "id": "5db29233",
   "metadata": {},
   "outputs": [
    {
     "name": "stdout",
     "output_type": "stream",
     "text": [
      "[[   0    0    0    0 7357 5997  651  266]\n",
      " [   0    0    0    0 7357 5997  651 3068]\n",
      " [   0    0    0    0 7357 4837  651 8047]\n",
      " [   0    0    0 9740 3377 4620 1469  407]\n",
      " [   0    0    0 9740 3377 4620 1469 9774]\n",
      " [   0    0    0 5609 7357 6717  651 6918]\n",
      " [   0    0    0    0 4317 2873 7114 1469]]\n"
     ]
    }
   ],
   "source": [
    "sent_length = 8\n",
    "padded_docs = pad_sequences(onehot_rep, padding = \"pre\", maxlen = sent_length)\n",
    "print(padded_docs)"
   ]
  },
  {
   "cell_type": "code",
   "execution_count": 11,
   "id": "71cb991a",
   "metadata": {},
   "outputs": [],
   "source": [
    "dim=10"
   ]
  },
  {
   "cell_type": "code",
   "execution_count": null,
   "id": "266a0111",
   "metadata": {},
   "outputs": [],
   "source": [
    "model = Sequential()\n",
    "model.add(Embedding(voc_size, dim, input_length=sent_length))\n",
    "model.compile(\"adam\", \"mse\")"
   ]
  }
 ],
 "metadata": {
  "kernelspec": {
   "display_name": "Python 3 (ipykernel)",
   "language": "python",
   "name": "python3"
  },
  "language_info": {
   "codemirror_mode": {
    "name": "ipython",
    "version": 3
   },
   "file_extension": ".py",
   "mimetype": "text/x-python",
   "name": "python",
   "nbconvert_exporter": "python",
   "pygments_lexer": "ipython3",
   "version": "3.9.7"
  }
 },
 "nbformat": 4,
 "nbformat_minor": 5
}
